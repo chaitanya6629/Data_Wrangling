{
 "cells": [
  {
   "cell_type": "code",
   "execution_count": 2,
   "metadata": {
    "collapsed": true
   },
   "outputs": [],
   "source": [
    "import xml.etree.cElementTree as ET\n",
    "from collections import defaultdict\n",
    "import re\n",
    "import pprint\n",
    "\n",
    "OSM_FILE = \"C:\\Chaitanya\\Jupyter\\Data_Wrangling\\Project_DataWrangling\\houston_texas.osm\"\n",
    "SAMPLE_FILE = \"C:\\Chaitanya\\Jupyter\\Data_Wrangling\\Project_DataWrangling\\houston_texas_sample.osm\""
   ]
  },
  {
   "cell_type": "code",
   "execution_count": 4,
   "metadata": {
    "collapsed": true
   },
   "outputs": [],
   "source": [
    "def is_pincode(elem):\n",
    "    return (elem.attrib['k']=='addr:postcode')"
   ]
  },
  {
   "cell_type": "code",
   "execution_count": 15,
   "metadata": {
    "collapsed": true
   },
   "outputs": [],
   "source": [
    "def audit_pincode(incorrect_pincodes, pincode):\n",
    "    pincode_re = re.compile(r'^(77...)')\n",
    "    m = pincode_re.search(pincode)\n",
    "    if not m:\n",
    "        incorrect_pincodes.append(pincode)\n",
    "    return incorrect_pincodes"
   ]
  },
  {
   "cell_type": "code",
   "execution_count": 17,
   "metadata": {
    "collapsed": false
   },
   "outputs": [],
   "source": [
    "def audit(osmfile):\n",
    "    osm_file = open(osmfile, 'r')\n",
    "    incorrect_pincodes = []\n",
    "    for event, elem in ET.iterparse(osm_file, events=(\"start\",)):\n",
    "        for tag in elem.iter(\"tag\"):\n",
    "            if is_pincode(tag):\n",
    "                audit_pincode(incorrect_pincodes, tag.attrib['v'])\n",
    "    osm_file.close()        \n",
    "    return incorrect_pincodes"
   ]
  },
  {
   "cell_type": "markdown",
   "metadata": {},
   "source": [
    "* 73032 belongs to Dougherty, Oklahoma\n",
    "* 74404 belongs to Montana\n",
    "* 75057 belongs to Dallas, TX\n",
    "* 88581 belongs to El Paso, TX"
   ]
  },
  {
   "cell_type": "code",
   "execution_count": 21,
   "metadata": {
    "collapsed": true
   },
   "outputs": [],
   "source": [
    "def update_pincode(pincode):\n",
    "    incorrect_list = ['Weslayan Street', '88581', '75057', '7-', '73032', '74404']\n",
    "    updated_pincode = pincode\n",
    "    if ('TX ' in pincode):\n",
    "        updated_pincode = pincode.replace('TX ', '')\n",
    "    if ('tx ' in pincode):\n",
    "        updated_pincode = pincode.replace('tx ', '')\n",
    "    if (pincode in incorrect_list):\n",
    "        return None\n",
    "    return updated_pincode"
   ]
  },
  {
   "cell_type": "code",
   "execution_count": 22,
   "metadata": {
    "collapsed": false
   },
   "outputs": [
    {
     "name": "stdout",
     "output_type": "stream",
     "text": [
      "Weslayan Street => None\n",
      "Weslayan Street => None\n",
      "88581 => None\n",
      "88581 => None\n",
      "TX 77494 => 77494\n",
      "TX 77494 => 77494\n",
      "TX 77009 => 77009\n",
      "TX 77009 => 77009\n",
      "TX 77086 => 77086\n",
      "TX 77086 => 77086\n",
      "75057 => None\n",
      "75057 => None\n",
      "7- => None\n",
      "7- => None\n",
      "TX 77005 => 77005\n",
      "TX 77005 => 77005\n",
      "TX 77086 => 77086\n",
      "TX 77086 => 77086\n",
      "TX 77042 => 77042\n",
      "TX 77042 => 77042\n",
      "TX 77086 => 77086\n",
      "TX 77086 => 77086\n",
      "tx 77042 => 77042\n",
      "tx 77042 => 77042\n",
      "TX 77043 => 77043\n",
      "TX 77043 => 77043\n",
      "73032 => None\n",
      "73032 => None\n",
      "74404 => None\n",
      "74404 => None\n"
     ]
    }
   ],
   "source": [
    "def test():\n",
    "    pincodes = audit(OSM_FILE)\n",
    "    for pin in pincodes:\n",
    "        better_pincode = update_pincode(pin)\n",
    "        print pin, \"=>\", better_pincode\n",
    "\n",
    "\n",
    "if __name__ == '__main__':\n",
    "    test()"
   ]
  },
  {
   "cell_type": "code",
   "execution_count": null,
   "metadata": {
    "collapsed": true
   },
   "outputs": [],
   "source": []
  }
 ],
 "metadata": {
  "anaconda-cloud": {},
  "kernelspec": {
   "display_name": "Python [conda env:DAND]",
   "language": "python",
   "name": "conda-env-DAND-py"
  },
  "language_info": {
   "codemirror_mode": {
    "name": "ipython",
    "version": 2
   },
   "file_extension": ".py",
   "mimetype": "text/x-python",
   "name": "python",
   "nbconvert_exporter": "python",
   "pygments_lexer": "ipython2",
   "version": "2.7.12"
  }
 },
 "nbformat": 4,
 "nbformat_minor": 2
}
