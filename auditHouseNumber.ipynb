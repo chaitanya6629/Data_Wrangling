{
 "cells": [
  {
   "cell_type": "code",
   "execution_count": 1,
   "metadata": {
    "collapsed": true
   },
   "outputs": [],
   "source": [
    "import xml.etree.cElementTree as ET\n",
    "from collections import defaultdict\n",
    "import re\n",
    "import pprint\n",
    "\n",
    "OSM_FILE = \"C:\\Chaitanya\\Jupyter\\Data_Wrangling\\Project_DataWrangling\\houston_texas.osm\"\n",
    "SAMPLE_FILE = \"C:\\Chaitanya\\Jupyter\\Data_Wrangling\\Project_DataWrangling\\houston_texas_sample.osm\""
   ]
  },
  {
   "cell_type": "code",
   "execution_count": 2,
   "metadata": {
    "collapsed": true
   },
   "outputs": [],
   "source": [
    "def is_House_Number(elem):\n",
    "    return (elem.attrib['k'] == \"addr:housenumber\")"
   ]
  },
  {
   "cell_type": "code",
   "execution_count": null,
   "metadata": {
    "collapsed": false
   },
   "outputs": [],
   "source": [
    "house_number_re = re.compile(r'^\\d+(-?\\d)*$')\n",
    "\n",
    "def audit_house_number(house_numbers, number):\n",
    "    m = house_number_re.search(number)\n",
    "    if not m:\n",
    "        house_numbers.append(number)\n",
    "    \n",
    "    return house_numbers\n",
    "\n",
    "\n",
    "\n",
    "def audit(osmfile):\n",
    "    osm_file = open(osmfile, \"r\")\n",
    "    house_numbers = []\n",
    "    for event, elem in ET.iterparse(osm_file, events=(\"start\",)):\n",
    "\n",
    "        if elem.tag == \"node\" or elem.tag == \"way\":\n",
    "            for tag in elem.iter(\"tag\"):\n",
    "                if is_House_Number(tag):\n",
    "                    audit_house_number(house_numbers, tag.attrib['v'])\n",
    "    \n",
    "    osm_file.close()\n",
    "    return house_numbers\n",
    "\n",
    "\n",
    "def update_house_number(house_number):\n",
    "    street_re = re.compile(r'[a-z]{3}')\n",
    "    m1 = street_re.search(house_number)\n",
    "    better_number = house_number\n",
    "    if m1:\n",
    "        #print m1.group(), \"    \", house_number\n",
    "        split = house_number.split(\" \")\n",
    "        if (split[1] != \"Suite\"):\n",
    "            return split[0]\n",
    "        else:\n",
    "            better_number = house_number\n",
    "    if ('Ste' in better_number):\n",
    "        better_number = better_number.replace('Ste', 'Suite')\n",
    "\n",
    "    return better_number\n",
    "    \n",
    "\n",
    "\n",
    "def test():\n",
    "    house_nos = audit(OSM_FILE)\n",
    "    for house_number in house_nos:\n",
    "        better_house_number = update_house_number(house_number)\n",
    "        print house_number, \"=>\", better_house_number\n",
    "\n",
    "\n",
    "if __name__ == '__main__':\n",
    "    test()"
   ]
  },
  {
   "cell_type": "code",
   "execution_count": null,
   "metadata": {
    "collapsed": true
   },
   "outputs": [],
   "source": []
  }
 ],
 "metadata": {
  "anaconda-cloud": {},
  "kernelspec": {
   "display_name": "Python [conda env:DAND]",
   "language": "python",
   "name": "conda-env-DAND-py"
  },
  "language_info": {
   "codemirror_mode": {
    "name": "ipython",
    "version": 2
   },
   "file_extension": ".py",
   "mimetype": "text/x-python",
   "name": "python",
   "nbconvert_exporter": "python",
   "pygments_lexer": "ipython2",
   "version": "2.7.12"
  }
 },
 "nbformat": 4,
 "nbformat_minor": 2
}
